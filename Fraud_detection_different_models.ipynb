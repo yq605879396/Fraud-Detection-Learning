{
 "cells": [
  {
   "cell_type": "markdown",
   "metadata": {},
   "source": [
    "### Introduction\n",
    "In this jupyter notebook, I use keras to implement several algorithms to do the fraud detection and test them with 2 common\n",
    "dataset.\n",
    "\n",
    "**Algorihtms:**  \n",
    "Supervised：      \n",
    "CNN   \n",
    "\n",
    "Unsupervised：      \n",
    "Isolation Forest   \n",
    "LOF\n",
    "Oneclass SVM\n",
    "\n",
    "Autoencoder  (not completed yet)    \n",
    "\n",
    "**Dataset:**  \n",
    "Synthetic Financial Datasets For Fraud Detection  \n",
    "https://www.kaggle.com/ntnu-testimon/paysim1/home  \n",
    "\n",
    "Credit Card Fraud Detection  \n",
    "https://www.kaggle.com/mlg-ulb/creditcardfraud/data  \n",
    "\n",
    "**Structure**    \n",
    "1. Checking environment and import pakages\n",
    "2. Loading Dataset\n",
    "3. Descriptive Analysis - visualize and observe the features of data.\n",
    "4. Propocess data - prepare for the model\n",
    "5. Building model and test with prepocessed data\n",
    "6. Analysis result"
   ]
  },
  {
   "cell_type": "markdown",
   "metadata": {},
   "source": [
    "## 1. Checking engironment and import pakages"
   ]
  },
  {
   "cell_type": "code",
   "execution_count": 1,
   "metadata": {},
   "outputs": [
    {
     "name": "stdout",
     "output_type": "stream",
     "text": [
      "Numpy version: 1.16.4\n",
      "Pandas version: 0.24.2\n",
      "Sklearn version: 0.23.1\n",
      "tensorflow version: 2.2.0\n",
      "Keras version: 2.3.0-tf\n"
     ]
    }
   ],
   "source": [
    "# for computation\n",
    "import numpy as np\n",
    "import sklearn as sk\n",
    "import pandas as pd\n",
    "import keras\n",
    "\n",
    "# for visualization\n",
    "import matplotlib.pyplot as plt\n",
    "from matplotlib import rcParams, gridspec\n",
    "import seaborn as sns\n",
    "\n",
    "# for preprocess data\n",
    "import joblib\n",
    "from sklearn.decomposition import PCA\n",
    "from sklearn.utils.class_weight import compute_sample_weight\n",
    "from sklearn.preprocessing import StandardScaler\n",
    "from sklearn.utils.class_weight import compute_sample_weight\n",
    "from sklearn.preprocessing import scale\n",
    "\n",
    "# for building models\n",
    "from sklearn.ensemble import IsolationForest\n",
    "from sklearn.neighbors import LocalOutlierFactor\n",
    "from sklearn.svm import OneClassSVM\n",
    "\n",
    "import tensorflow as tf\n",
    "from tensorflow import keras\n",
    "from tensorflow.keras.models import Sequential\n",
    "from tensorflow.keras.layers import Dense, Dropout, Flatten, BatchNormalization\n",
    "from tensorflow.keras.layers import Conv1D, MaxPool1D\n",
    "from tensorflow.keras.optimizers import Adam\n",
    "\n",
    "# for analysis\n",
    "from sklearn.metrics import classification_report,accuracy_score\n",
    "from sklearn.model_selection import (cross_val_score, KFold, train_test_split,\n",
    "                                     GridSearchCV, cross_validate,\n",
    "                                     StratifiedKFold)\n",
    "\n",
    "print(\"Numpy version: {}\".format(np.__version__))\n",
    "print(\"Pandas version: {}\".format(pd.__version__))\n",
    "print(\"Sklearn version: {}\".format(sk.__version__))\n",
    "print(\"tensorflow version: {}\".format(tf.__version__))\n",
    "print(\"Keras version: {}\".format(keras.__version__))"
   ]
  },
  {
   "cell_type": "markdown",
   "metadata": {},
   "source": [
    "## 2. Loading dataset"
   ]
  },
  {
   "cell_type": "markdown",
   "metadata": {},
   "source": [
    "**(1) creditcard dataset - \"df_cre\"**"
   ]
  },
  {
   "cell_type": "code",
   "execution_count": 2,
   "metadata": {},
   "outputs": [
    {
     "data": {
      "text/html": [
       "<div>\n",
       "<style scoped>\n",
       "    .dataframe tbody tr th:only-of-type {\n",
       "        vertical-align: middle;\n",
       "    }\n",
       "\n",
       "    .dataframe tbody tr th {\n",
       "        vertical-align: top;\n",
       "    }\n",
       "\n",
       "    .dataframe thead th {\n",
       "        text-align: right;\n",
       "    }\n",
       "</style>\n",
       "<table border=\"1\" class=\"dataframe\">\n",
       "  <thead>\n",
       "    <tr style=\"text-align: right;\">\n",
       "      <th></th>\n",
       "      <th>Time</th>\n",
       "      <th>V1</th>\n",
       "      <th>V2</th>\n",
       "      <th>V3</th>\n",
       "      <th>V4</th>\n",
       "      <th>V5</th>\n",
       "      <th>V6</th>\n",
       "      <th>V7</th>\n",
       "      <th>V8</th>\n",
       "      <th>V9</th>\n",
       "      <th>...</th>\n",
       "      <th>V21</th>\n",
       "      <th>V22</th>\n",
       "      <th>V23</th>\n",
       "      <th>V24</th>\n",
       "      <th>V25</th>\n",
       "      <th>V26</th>\n",
       "      <th>V27</th>\n",
       "      <th>V28</th>\n",
       "      <th>Amount</th>\n",
       "      <th>Class</th>\n",
       "    </tr>\n",
       "  </thead>\n",
       "  <tbody>\n",
       "    <tr>\n",
       "      <th>0</th>\n",
       "      <td>0.0</td>\n",
       "      <td>-1.359807</td>\n",
       "      <td>-0.072781</td>\n",
       "      <td>2.536347</td>\n",
       "      <td>1.378155</td>\n",
       "      <td>-0.338321</td>\n",
       "      <td>0.462388</td>\n",
       "      <td>0.239599</td>\n",
       "      <td>0.098698</td>\n",
       "      <td>0.363787</td>\n",
       "      <td>...</td>\n",
       "      <td>-0.018307</td>\n",
       "      <td>0.277838</td>\n",
       "      <td>-0.110474</td>\n",
       "      <td>0.066928</td>\n",
       "      <td>0.128539</td>\n",
       "      <td>-0.189115</td>\n",
       "      <td>0.133558</td>\n",
       "      <td>-0.021053</td>\n",
       "      <td>149.62</td>\n",
       "      <td>0</td>\n",
       "    </tr>\n",
       "    <tr>\n",
       "      <th>1</th>\n",
       "      <td>0.0</td>\n",
       "      <td>1.191857</td>\n",
       "      <td>0.266151</td>\n",
       "      <td>0.166480</td>\n",
       "      <td>0.448154</td>\n",
       "      <td>0.060018</td>\n",
       "      <td>-0.082361</td>\n",
       "      <td>-0.078803</td>\n",
       "      <td>0.085102</td>\n",
       "      <td>-0.255425</td>\n",
       "      <td>...</td>\n",
       "      <td>-0.225775</td>\n",
       "      <td>-0.638672</td>\n",
       "      <td>0.101288</td>\n",
       "      <td>-0.339846</td>\n",
       "      <td>0.167170</td>\n",
       "      <td>0.125895</td>\n",
       "      <td>-0.008983</td>\n",
       "      <td>0.014724</td>\n",
       "      <td>2.69</td>\n",
       "      <td>0</td>\n",
       "    </tr>\n",
       "    <tr>\n",
       "      <th>2</th>\n",
       "      <td>1.0</td>\n",
       "      <td>-1.358354</td>\n",
       "      <td>-1.340163</td>\n",
       "      <td>1.773209</td>\n",
       "      <td>0.379780</td>\n",
       "      <td>-0.503198</td>\n",
       "      <td>1.800499</td>\n",
       "      <td>0.791461</td>\n",
       "      <td>0.247676</td>\n",
       "      <td>-1.514654</td>\n",
       "      <td>...</td>\n",
       "      <td>0.247998</td>\n",
       "      <td>0.771679</td>\n",
       "      <td>0.909412</td>\n",
       "      <td>-0.689281</td>\n",
       "      <td>-0.327642</td>\n",
       "      <td>-0.139097</td>\n",
       "      <td>-0.055353</td>\n",
       "      <td>-0.059752</td>\n",
       "      <td>378.66</td>\n",
       "      <td>0</td>\n",
       "    </tr>\n",
       "    <tr>\n",
       "      <th>3</th>\n",
       "      <td>1.0</td>\n",
       "      <td>-0.966272</td>\n",
       "      <td>-0.185226</td>\n",
       "      <td>1.792993</td>\n",
       "      <td>-0.863291</td>\n",
       "      <td>-0.010309</td>\n",
       "      <td>1.247203</td>\n",
       "      <td>0.237609</td>\n",
       "      <td>0.377436</td>\n",
       "      <td>-1.387024</td>\n",
       "      <td>...</td>\n",
       "      <td>-0.108300</td>\n",
       "      <td>0.005274</td>\n",
       "      <td>-0.190321</td>\n",
       "      <td>-1.175575</td>\n",
       "      <td>0.647376</td>\n",
       "      <td>-0.221929</td>\n",
       "      <td>0.062723</td>\n",
       "      <td>0.061458</td>\n",
       "      <td>123.50</td>\n",
       "      <td>0</td>\n",
       "    </tr>\n",
       "    <tr>\n",
       "      <th>4</th>\n",
       "      <td>2.0</td>\n",
       "      <td>-1.158233</td>\n",
       "      <td>0.877737</td>\n",
       "      <td>1.548718</td>\n",
       "      <td>0.403034</td>\n",
       "      <td>-0.407193</td>\n",
       "      <td>0.095921</td>\n",
       "      <td>0.592941</td>\n",
       "      <td>-0.270533</td>\n",
       "      <td>0.817739</td>\n",
       "      <td>...</td>\n",
       "      <td>-0.009431</td>\n",
       "      <td>0.798278</td>\n",
       "      <td>-0.137458</td>\n",
       "      <td>0.141267</td>\n",
       "      <td>-0.206010</td>\n",
       "      <td>0.502292</td>\n",
       "      <td>0.219422</td>\n",
       "      <td>0.215153</td>\n",
       "      <td>69.99</td>\n",
       "      <td>0</td>\n",
       "    </tr>\n",
       "  </tbody>\n",
       "</table>\n",
       "<p>5 rows × 31 columns</p>\n",
       "</div>"
      ],
      "text/plain": [
       "   Time        V1        V2        V3        V4        V5        V6        V7  \\\n",
       "0   0.0 -1.359807 -0.072781  2.536347  1.378155 -0.338321  0.462388  0.239599   \n",
       "1   0.0  1.191857  0.266151  0.166480  0.448154  0.060018 -0.082361 -0.078803   \n",
       "2   1.0 -1.358354 -1.340163  1.773209  0.379780 -0.503198  1.800499  0.791461   \n",
       "3   1.0 -0.966272 -0.185226  1.792993 -0.863291 -0.010309  1.247203  0.237609   \n",
       "4   2.0 -1.158233  0.877737  1.548718  0.403034 -0.407193  0.095921  0.592941   \n",
       "\n",
       "         V8        V9  ...       V21       V22       V23       V24       V25  \\\n",
       "0  0.098698  0.363787  ... -0.018307  0.277838 -0.110474  0.066928  0.128539   \n",
       "1  0.085102 -0.255425  ... -0.225775 -0.638672  0.101288 -0.339846  0.167170   \n",
       "2  0.247676 -1.514654  ...  0.247998  0.771679  0.909412 -0.689281 -0.327642   \n",
       "3  0.377436 -1.387024  ... -0.108300  0.005274 -0.190321 -1.175575  0.647376   \n",
       "4 -0.270533  0.817739  ... -0.009431  0.798278 -0.137458  0.141267 -0.206010   \n",
       "\n",
       "        V26       V27       V28  Amount  Class  \n",
       "0 -0.189115  0.133558 -0.021053  149.62      0  \n",
       "1  0.125895 -0.008983  0.014724    2.69      0  \n",
       "2 -0.139097 -0.055353 -0.059752  378.66      0  \n",
       "3 -0.221929  0.062723  0.061458  123.50      0  \n",
       "4  0.502292  0.219422  0.215153   69.99      0  \n",
       "\n",
       "[5 rows x 31 columns]"
      ]
     },
     "execution_count": 2,
     "metadata": {},
     "output_type": "execute_result"
    }
   ],
   "source": [
    "df_cre = pd.read_csv('Data/credit/creditcard.csv')\n",
    "df_cre.head()"
   ]
  },
  {
   "cell_type": "markdown",
   "metadata": {},
   "source": [
    "**(2) synthetic dataset - \"df_syn\"**"
   ]
  },
  {
   "cell_type": "code",
   "execution_count": 3,
   "metadata": {},
   "outputs": [
    {
     "data": {
      "text/html": [
       "<div>\n",
       "<style scoped>\n",
       "    .dataframe tbody tr th:only-of-type {\n",
       "        vertical-align: middle;\n",
       "    }\n",
       "\n",
       "    .dataframe tbody tr th {\n",
       "        vertical-align: top;\n",
       "    }\n",
       "\n",
       "    .dataframe thead th {\n",
       "        text-align: right;\n",
       "    }\n",
       "</style>\n",
       "<table border=\"1\" class=\"dataframe\">\n",
       "  <thead>\n",
       "    <tr style=\"text-align: right;\">\n",
       "      <th></th>\n",
       "      <th>step</th>\n",
       "      <th>type</th>\n",
       "      <th>amount</th>\n",
       "      <th>nameOrig</th>\n",
       "      <th>oldbalanceOrg</th>\n",
       "      <th>newbalanceOrig</th>\n",
       "      <th>nameDest</th>\n",
       "      <th>oldbalanceDest</th>\n",
       "      <th>newbalanceDest</th>\n",
       "      <th>isFraud</th>\n",
       "      <th>isFlaggedFraud</th>\n",
       "    </tr>\n",
       "  </thead>\n",
       "  <tbody>\n",
       "    <tr>\n",
       "      <th>0</th>\n",
       "      <td>1</td>\n",
       "      <td>PAYMENT</td>\n",
       "      <td>9839.64</td>\n",
       "      <td>C1231006815</td>\n",
       "      <td>170136.0</td>\n",
       "      <td>160296.36</td>\n",
       "      <td>M1979787155</td>\n",
       "      <td>0.0</td>\n",
       "      <td>0.0</td>\n",
       "      <td>0</td>\n",
       "      <td>0</td>\n",
       "    </tr>\n",
       "    <tr>\n",
       "      <th>1</th>\n",
       "      <td>1</td>\n",
       "      <td>PAYMENT</td>\n",
       "      <td>1864.28</td>\n",
       "      <td>C1666544295</td>\n",
       "      <td>21249.0</td>\n",
       "      <td>19384.72</td>\n",
       "      <td>M2044282225</td>\n",
       "      <td>0.0</td>\n",
       "      <td>0.0</td>\n",
       "      <td>0</td>\n",
       "      <td>0</td>\n",
       "    </tr>\n",
       "    <tr>\n",
       "      <th>2</th>\n",
       "      <td>1</td>\n",
       "      <td>TRANSFER</td>\n",
       "      <td>181.00</td>\n",
       "      <td>C1305486145</td>\n",
       "      <td>181.0</td>\n",
       "      <td>0.00</td>\n",
       "      <td>C553264065</td>\n",
       "      <td>0.0</td>\n",
       "      <td>0.0</td>\n",
       "      <td>1</td>\n",
       "      <td>0</td>\n",
       "    </tr>\n",
       "    <tr>\n",
       "      <th>3</th>\n",
       "      <td>1</td>\n",
       "      <td>CASH_OUT</td>\n",
       "      <td>181.00</td>\n",
       "      <td>C840083671</td>\n",
       "      <td>181.0</td>\n",
       "      <td>0.00</td>\n",
       "      <td>C38997010</td>\n",
       "      <td>21182.0</td>\n",
       "      <td>0.0</td>\n",
       "      <td>1</td>\n",
       "      <td>0</td>\n",
       "    </tr>\n",
       "    <tr>\n",
       "      <th>4</th>\n",
       "      <td>1</td>\n",
       "      <td>PAYMENT</td>\n",
       "      <td>11668.14</td>\n",
       "      <td>C2048537720</td>\n",
       "      <td>41554.0</td>\n",
       "      <td>29885.86</td>\n",
       "      <td>M1230701703</td>\n",
       "      <td>0.0</td>\n",
       "      <td>0.0</td>\n",
       "      <td>0</td>\n",
       "      <td>0</td>\n",
       "    </tr>\n",
       "  </tbody>\n",
       "</table>\n",
       "</div>"
      ],
      "text/plain": [
       "   step      type    amount     nameOrig  oldbalanceOrg  newbalanceOrig  \\\n",
       "0     1   PAYMENT   9839.64  C1231006815       170136.0       160296.36   \n",
       "1     1   PAYMENT   1864.28  C1666544295        21249.0        19384.72   \n",
       "2     1  TRANSFER    181.00  C1305486145          181.0            0.00   \n",
       "3     1  CASH_OUT    181.00   C840083671          181.0            0.00   \n",
       "4     1   PAYMENT  11668.14  C2048537720        41554.0        29885.86   \n",
       "\n",
       "      nameDest  oldbalanceDest  newbalanceDest  isFraud  isFlaggedFraud  \n",
       "0  M1979787155             0.0             0.0        0               0  \n",
       "1  M2044282225             0.0             0.0        0               0  \n",
       "2   C553264065             0.0             0.0        1               0  \n",
       "3    C38997010         21182.0             0.0        1               0  \n",
       "4  M1230701703             0.0             0.0        0               0  "
      ]
     },
     "execution_count": 3,
     "metadata": {},
     "output_type": "execute_result"
    }
   ],
   "source": [
    "df_syn = pd.read_csv('Data/synthetic/synthetic.csv')\n",
    "df_syn.head()"
   ]
  },
  {
   "cell_type": "markdown",
   "metadata": {},
   "source": [
    "Observation: all attribute in creditcard.csv are numeric value, but synthetic.csv have some string value"
   ]
  },
  {
   "cell_type": "markdown",
   "metadata": {},
   "source": [
    "## 3. Descriptive Analysis - visualize and observe the features of data."
   ]
  },
  {
   "cell_type": "code",
   "execution_count": 4,
   "metadata": {},
   "outputs": [],
   "source": [
    "# unify target attibute name\n",
    "df_com = [df_cre, df_syn]\n",
    "\n",
    "for df in df_com:\n",
    "    df.columns = df.columns.str.lower()\n",
    "    if df.columns.contains('class') == True: # for credicard\n",
    "        df.columns = df.columns.str.replace('class', 'target')\n",
    "    if df.columns.contains('isfraud') == True: # for synthetic \n",
    "        df.columns = df.columns.str.replace('isfraud', 'target')\n",
    "        df.columns = df.columns.str.replace('newbalanceorig', 'newbalanceorg')"
   ]
  },
  {
   "cell_type": "markdown",
   "metadata": {},
   "source": [
    "### (1) Creditcard dataset"
   ]
  },
  {
   "cell_type": "code",
   "execution_count": 5,
   "metadata": {},
   "outputs": [
    {
     "data": {
      "image/png": "[encoded data removed]",
      "text/plain": [
       "<Figure size 1440x360 with 1 Axes>"
      ]
     },
     "metadata": {
      "needs_background": "light"
     },
     "output_type": "display_data"
    }
   ],
   "source": [
    "# Plotting frequency of Fraud VS Amounts\n",
    "rcParams['figure.figsize'] = (20.0, 5.0)\n",
    "\n",
    "sns.stripplot(x=df_cre[\"amount\"], y=df_cre['target'].astype('category'),\n",
    "             palette=['#90EE90','#DC143C']);\n",
    "\n",
    "plt.title('IF Fraud vs Amount')\n",
    "plt.xlabel('Amount')\n",
    "plt.ylabel('IF FRAUD');"
   ]
  },
  {
   "cell_type": "code",
   "execution_count": 6,
   "metadata": {},
   "outputs": [
    {
     "data": {
      "image/png": "[encoded data removed]",
      "text/plain": [
       "<Figure size 1080x288 with 1 Axes>"
      ]
     },
     "metadata": {
      "needs_background": "light"
     },
     "output_type": "display_data"
    }
   ],
   "source": [
    "# Plot number of datapoints of each time interval\n",
    "plt.figure(figsize=(15,4))\n",
    "sns.distplot(df_cre.time, color='#87CEFA');\n",
    "plt.title('Time Series')\n",
    "plt.xlabel('Time Step'); plt.ylabel('Density');"
   ]
  },
  {
   "cell_type": "code",
   "execution_count": 7,
   "metadata": {},
   "outputs": [
    {
     "data": {
      "image/png": "[encoded data removed]",
      "text/plain": [
       "<Figure size 1440x360 with 2 Axes>"
      ]
     },
     "metadata": {
      "needs_background": "light"
     },
     "output_type": "display_data"
    }
   ],
   "source": [
    "# view the corralationship between 'amount' and other attributes\n",
    "sns.heatmap(df_cre.loc[:,'v1':'amount'].corr());\n",
    "plt.title('Feature Correlation Matrix')\n",
    "plt.xlabel('Feature'); \n",
    "plt.ylabel('Feature');\n",
    "plt.yticks(rotation=0);"
   ]
  },
  {
   "cell_type": "markdown",
   "metadata": {},
   "source": [
    "### (2) Synthetic dataset"
   ]
  },
  {
   "cell_type": "code",
   "execution_count": 8,
   "metadata": {},
   "outputs": [
    {
     "data": {
      "image/png": "[encoded data removed]",
      "text/plain": [
       "<Figure size 1440x360 with 1 Axes>"
      ]
     },
     "metadata": {
      "needs_background": "light"
     },
     "output_type": "display_data"
    }
   ],
   "source": [
    "# Plotting frequency of Fraud VS Amounts\n",
    "rcParams['figure.figsize'] = (20.0, 5.0)\n",
    "sns.stripplot(x=df_syn[\"amount\"], y=df_syn['target'].astype('category'),\n",
    "             palette=['#90EE90','#DC143C']);\n",
    "plt.title('If Fraud vs Amount')\n",
    "plt.xlabel('Amount')\n",
    "plt.ylabel('If Fraud');"
   ]
  },
  {
   "cell_type": "code",
   "execution_count": 9,
   "metadata": {},
   "outputs": [
    {
     "data": {
      "image/png": "[encoded data removed]",
      "text/plain": [
       "<Figure size 1080x288 with 1 Axes>"
      ]
     },
     "metadata": {
      "needs_background": "light"
     },
     "output_type": "display_data"
    }
   ],
   "source": [
    "# Plot number of datapoints of each time interval\n",
    "plt.figure(figsize=(15,4))\n",
    "sns.distplot(df_syn.step, color='#87CEFA');\n",
    "plt.title('Time Series')\n",
    "plt.xlabel('Time Step'); plt.ylabel('Density');"
   ]
  },
  {
   "cell_type": "code",
   "execution_count": 10,
   "metadata": {},
   "outputs": [
    {
     "data": {
      "image/png": "[encoded data removed]",
      "text/plain": [
       "<Figure size 1440x360 with 1 Axes>"
      ]
     },
     "metadata": {
      "needs_background": "light"
     },
     "output_type": "display_data"
    }
   ],
   "source": [
    "# View transaction type\n",
    "rcParams['figure.figsize'] = (20.0, 5.0)\n",
    "df_syn.type.value_counts().plot.barh(color=['#BA55D3','#9932CC','#9370DB','#6A5ACD','#483D8B']);\n",
    "plt.title('Type of Bank Transfer vs Frequency');\n",
    "plt.xlabel('Transaction Type')\n",
    "plt.ylabel('Frequency');"
   ]
  },
  {
   "cell_type": "code",
   "execution_count": 11,
   "metadata": {},
   "outputs": [
    {
     "data": {
      "image/png": "[encoded data removed]",
      "text/plain": [
       "<Figure size 1440x360 with 2 Axes>"
      ]
     },
     "metadata": {
      "needs_background": "light"
     },
     "output_type": "display_data"
    }
   ],
   "source": [
    "# view the corralationship between attribute(numercal attribute)\n",
    "sns.heatmap(df_syn.select_dtypes(['int','float']).corr(), cmap=plt.cm.Greens);\n",
    "plt.title('Feature Correlation Map');\n",
    "plt.ylabel('Features')\n",
    "plt.xlabel('Features')\n",
    "plt.xticks(rotation='vertical');"
   ]
  },
  {
   "cell_type": "markdown",
   "metadata": {},
   "source": [
    "## 4. Propocess data - prepare for the model"
   ]
  },
  {
   "cell_type": "markdown",
   "metadata": {},
   "source": [
    "**(1) drop useless data/attribute, and code for category attributes**"
   ]
  },
  {
   "cell_type": "code",
   "execution_count": 12,
   "metadata": {},
   "outputs": [],
   "source": [
    "# Creditcard dataset\n",
    "### Drop attribute \"time\"\n",
    "df_cre = df_cre.drop('time',axis=1)\n",
    "\n",
    "\n",
    "# Synthetic dataset\n",
    "\n",
    "### Encode all object colunms to categorical codes\n",
    "df_syn.type = df_syn.type.astype('category').cat.codes\n",
    "df_syn.nameorig = df_syn.nameorig.astype('category').cat.codes\n",
    "df_syn.namedest = df_syn.namedest.astype('category').cat.codes\n",
    "\n",
    "### Concatenate one-hot encoded type features\n",
    "df_syn = pd.concat([df_syn,pd.get_dummies(df_syn.type, 'type')], axis=1).drop('type',axis=1)\n",
    "\n",
    "### Drop attribute \"isflaggedfraud\"\n",
    "df_syn= df_syn.drop('isflaggedfraud', axis=1)"
   ]
  },
  {
   "cell_type": "markdown",
   "metadata": {},
   "source": [
    "**(2)Split and sampling data**"
   ]
  },
  {
   "cell_type": "code",
   "execution_count": 13,
   "metadata": {},
   "outputs": [],
   "source": [
    "def sub_sampling(X, y, length):\n",
    "    '''\n",
    "    syb_sample an arra; by randomly\n",
    "    '''\n",
    "\n",
    "    assert type(X) == np.ndarray, 'Make sure X is a numpy array'\n",
    "    assert type(y) == np.ndarray, \"Make sure y is a numpy array\"\n",
    "    assert (length < len(X)), 'Numpy array is not length '\n",
    "\n",
    "    new_index = np.random.choice(np.arange(0,len(y)), size=length, replace=False)\n",
    "    X,y = X[new_index], y[new_index]\n",
    "\n",
    "\n",
    "    return X, y\n",
    "\n",
    "sub_sample_size = 100000"
   ]
  },
  {
   "cell_type": "markdown",
   "metadata": {},
   "source": [
    "**spliting and sampling creditcard dataset**"
   ]
  },
  {
   "cell_type": "code",
   "execution_count": 53,
   "metadata": {},
   "outputs": [
    {
     "name": "stdout",
     "output_type": "stream",
     "text": [
      "Processing credit card dataset:\n",
      "\n",
      "Preprocessing(PCA and scaler:)\n",
      "PCA Components: 19\n",
      "Standard Scaler: Yes\n",
      "\n",
      "Data Shape:\n",
      "Use Data: 100000\n",
      "Train X: 75000 \t Train y: 75000\n",
      "Test  X: 25000 \t Test y: 25000\n",
      "Label type: [0, 1]\n"
     ]
    }
   ],
   "source": [
    "print('Processing credit card dataset:')\n",
    "\n",
    "# define the classes for the confusion matrix\n",
    "classes_cre = list(np.unique(df_cre['target'].values))\n",
    "\n",
    "# Encode value to numpy\n",
    "X_cre = df_cre.drop('target',axis=1).values\n",
    "y_cre = df_cre['target'].values\n",
    "\n",
    "# Sub sample the dataframe\n",
    "if len(X_cre) > sub_sample_size:\n",
    "    X_cre, y_cre = sub_sampling(X_cre, y_cre, sub_sample_size)\n",
    "\n",
    "# Conduct a train-test-split on the data\n",
    "train_x_cre, test_x_cre, train_y_cre, test_y_cre = train_test_split(X_cre,y_cre, test_size=0.25)\n",
    "\n",
    "# Compute the sample weights of the dataset\n",
    "weights_cre = compute_sample_weight(class_weight='balanced', y=train_y_cre)\n",
    "\n",
    "# Compuete the number of PCA comentents we are goint to use\n",
    "components_cre = round(train_x_cre.shape[1]/1.5)\n",
    "\n",
    "'''\n",
    "# Saving a backup copy the original data\n",
    "train_x_norm, train_y_norm = train_x.copy(), train_y.copy()\n",
    "test_x_norm, test_y_norm = test_x.copy(), test_y.copy()\n",
    "'''\n",
    "print('\\nPreprocessing(PCA and scaler:)')\n",
    "\n",
    "pca_cre = PCA(n_components=components_cre)\n",
    "train_x_cre = pca_cre.fit_transform(train_x_cre)\n",
    "test_x_cre = pca_cre.transform(test_x_cre)\n",
    "print('PCA Components: {}'.format(components_cre))\n",
    "\n",
    "# Transform the data using a standard scaler\n",
    "scaler = StandardScaler(copy=True)\n",
    "train_x_cre = scaler.fit_transform(train_x_cre)\n",
    "test_x_cre = scaler.transform(test_x_cre)\n",
    "print('Standard Scaler: Yes')\n",
    "\n",
    "# Print data shape title\n",
    "print('\\nData Shape:')\n",
    "\n",
    "# Printing metrics around the shape of the datframe\n",
    "\n",
    "print(f'Use Data: {len(X_cre)}')\n",
    "print(f'Train X: {len(train_x_cre)} \\t Train y: {len(train_y_cre)}')\n",
    "print(f'Test  X: {len(test_x_cre)} \\t Test y: {len(test_y_cre)}')\n",
    "print(f'Label type: {classes_cre}')"
   ]
  },
  {
   "cell_type": "markdown",
   "metadata": {},
   "source": [
    "**spliting and sampling synthetic dataset**"
   ]
  },
  {
   "cell_type": "code",
   "execution_count": 54,
   "metadata": {},
   "outputs": [
    {
     "name": "stdout",
     "output_type": "stream",
     "text": [
      "Processing synthetic dataset:\n",
      "\n",
      "Preprocessing(PCA and scaler:)\n",
      "PCA Components: 9\n",
      "Standard Scaler: Yes\n",
      "\n",
      "Data Shape:\n",
      "Use Data: 100000\n",
      "Train X: 75000 \t Train y: 75000\n",
      "Test  X: 25000 \t Test y: 25000\n",
      "Label type: [0, 1]\n"
     ]
    }
   ],
   "source": [
    "print('Processing synthetic dataset:')\n",
    "\n",
    "# define the classes for the confusion matrix\n",
    "classes_syn = list(np.unique(df_syn['target'].values))\n",
    "\n",
    "# Encode value to numpy\n",
    "X_syn = df_syn.drop('target',axis=1).values\n",
    "y_syn = df_syn['target'].values\n",
    "\n",
    "# Sub sample the dataframe\n",
    "if len(X_syn) > sub_sample_size:\n",
    "    X_syn, y_syn = sub_sampling(X_syn,y_syn, sub_sample_size)\n",
    "\n",
    "# Conduct a train-test-split on the data\n",
    "train_x_syn, test_x_syn, train_y_syn, test_y_syn = train_test_split(X_syn,y_syn, test_size=0.25)\n",
    "\n",
    "# Compute the sample weights of the dataset\n",
    "weights_syn = compute_sample_weight(class_weight='balanced', y=train_y_syn)\n",
    "\n",
    "# Compuete the number of PCA comentents we are goint to use\n",
    "components_syn = round(train_x_syn.shape[1]/1.5)\n",
    "\n",
    "'''\n",
    "# Saving a backup copy the original data\n",
    "train_x_norm, train_y_norm = train_x.copy(), train_y.copy()\n",
    "test_x_norm, test_y_norm = test_x.copy(), test_y.copy()\n",
    "'''\n",
    "print('\\nPreprocessing(PCA and scaler:)')\n",
    "pca_syn = PCA(n_components=components_syn)\n",
    "train_x_syn = pca_syn.fit_transform(train_x_syn)\n",
    "test_x_syn = pca_syn.transform(test_x_syn)\n",
    "print('PCA Components: {}'.format(components_syn))\n",
    "\n",
    "# Transform the data using a standard scaler\n",
    "scaler = StandardScaler(copy=True)\n",
    "train_x_syn = scaler.fit_transform(train_x_syn)\n",
    "test_x_syn = scaler.transform(test_x_syn)\n",
    "print('Standard Scaler: Yes')\n",
    "\n",
    "# Print data shape title\n",
    "print('\\nData Shape:')\n",
    "\n",
    "# Printing metrics around the shape of the datframe\n",
    "\n",
    "print(f'Use Data: {len(X_syn)}')\n",
    "print(f'Train X: {len(train_x_syn)} \\t Train y: {len(train_y_syn)}')\n",
    "print(f'Test  X: {len(test_x_syn)} \\t Test y: {len(test_y_syn)}')\n",
    "print(f'Label type: {classes_syn}')"
   ]
  },
  {
   "cell_type": "code",
   "execution_count": 69,
   "metadata": {},
   "outputs": [
    {
     "name": "stdout",
     "output_type": "stream",
     "text": [
      "PCA(n_components=9)\n",
      "Balanced credit card dataset:\n",
      "Use Data: 984\n",
      "Train X: 787 \t Train y: 787\n",
      "Test  X: 197 \t Test y: 197\n",
      "\n",
      "Balanced synthetic dataset:\n",
      "Use Data: 8705\n",
      "Train X: 6964 \t Train y: 6964\n",
      "Test  X: 1741 \t Test y: 1741\n"
     ]
    },
    {
     "name": "stderr",
     "output_type": "stream",
     "text": [
      "D:\\Users\\60587\\Anaconda3\\lib\\site-packages\\pandas\\core\\frame.py:6692: FutureWarning: Sorting because non-concatenation axis is not aligned. A future version\n",
      "of pandas will change to not sort by default.\n",
      "\n",
      "To accept the future behavior, pass 'sort=False'.\n",
      "\n",
      "To retain the current behavior and silence the warning, pass 'sort=True'.\n",
      "\n",
      "  sort=sort)\n"
     ]
    }
   ],
   "source": [
    "# create balance dataset\n",
    "# count how many \"fraud\", select the same number of sample from those \"not fraud\"\n",
    "\n",
    "# creditcard\n",
    "non_fraud_cre = df_cre[df_cre['target']==0]\n",
    "fraud_cre = df_cre[df_cre['target']==1]\n",
    "\n",
    "non_fraud_cre = non_fraud_cre.sample(fraud_cre.shape[0])\n",
    "df_balance_cre = fraud_cre.append(non_fraud_cre, ignore_index = True)\n",
    "\n",
    "X_b_cre = df_balance_cre.drop('target',axis = 1)\n",
    "y_b_cre = df_balance_cre['target']\n",
    "\n",
    "b_train_x_cre,b_test_x_cre,b_train_y_cre,b_test_y_cre = train_test_split(X_b_cre,y_b_cre, test_size =0.2,random_state=0,stratify=y_b_cre)\n",
    "\n",
    "\n",
    "#print(pca_cre)\n",
    "#b_train_x_cre = pca_cre.fit_transform(b_train_x_cre)\n",
    "#b_test_x_cre = pca_cre.transform(b_test_x_cre)\n",
    "\n",
    "# Transform the data using a standard scaler\n",
    "b_train_x_cre = scaler.fit_transform(b_train_x_cre)\n",
    "b_test_x_cre = scaler.transform(b_test_x_cre)\n",
    "\n",
    "\n",
    "##  synthetic\n",
    "non_fraud_syn = df_syn[df_syn['target']==0]\n",
    "fraud_syn = df_syn[df_syn['target']==1]\n",
    "\n",
    "non_fraud_syn = non_fraud_syn.sample(fraud_syn.shape[0])\n",
    "df_balance_syn = fraud_cre.append(non_fraud_syn, ignore_index = True)\n",
    "\n",
    "X_b_syn = df_balance_syn.drop('target',axis = 1)\n",
    "y_b_syn = df_balance_syn['target']\n",
    "\n",
    "b_train_x_syn,b_test_x_syn,b_train_y_syn,b_test_y_syn = train_test_split(X_b_syn,y_b_syn, test_size =0.2,random_state=0,stratify=y_b_syn)\n",
    "\n",
    "print(pca_syn)\n",
    "#b_train_x_syn = pca_syn.fit_transform(b_train_x_syn)\n",
    "#b_test_x_syn = pca_syn.transform(b_test_x_syn)\n",
    "\n",
    "# Transform the data using a standard scaler\n",
    "b_train_x_syn = scaler.fit_transform(b_train_x_syn)\n",
    "b_test_x_syn = scaler.transform(b_test_x_syn)\n",
    "\n",
    "print('Balanced credit card dataset:')\n",
    "print(f'Use Data: {len(X_b_cre)}')\n",
    "print(f'Train X: {len(b_train_x_cre)} \\t Train y: {len(b_train_y_cre)}')\n",
    "print(f'Test  X: {len(b_test_x_cre)} \\t Test y: {len(b_test_y_cre)}')\n",
    "\n",
    "\n",
    "print('\\nBalanced synthetic dataset:')\n",
    "print(f'Use Data: {len(X_b_syn)}')\n",
    "print(f'Train X: {len(b_train_x_syn)} \\t Train y: {len(b_train_y_syn)}')\n",
    "print(f'Test  X: {len(b_test_x_syn)} \\t Test y: {len(b_test_y_syn)}')"
   ]
  },
  {
   "cell_type": "markdown",
   "metadata": {},
   "source": [
    "## 5.Building model and test with prepocessed data"
   ]
  },
  {
   "cell_type": "markdown",
   "metadata": {},
   "source": [
    "**(1) CNN**"
   ]
  },
  {
   "cell_type": "code",
   "execution_count": 102,
   "metadata": {},
   "outputs": [],
   "source": [
    "cre_model = Sequential()\n",
    "cre_model.add(Conv1D(32, 2, activation = 'relu',input_shape = (train_x_cre.shape[1],1)))\n",
    "b_cre_model = Sequential()\n",
    "b_cre_model.add(Conv1D(32, 2, activation = 'relu',input_shape = (b_train_x_cre.shape[1],1)))\n",
    "syn_model = Sequential()\n",
    "syn_model.add(Conv1D(32, 2, activation = 'relu',input_shape = (train_x_syn.shape[1],1)))\n",
    "\n",
    "for model in [cre_model, b_cre_model, syn_model]:\n",
    "    model.add(BatchNormalization())\n",
    "    model.add(Dropout(0.2))\n",
    "    model.add(Conv1D(64, 2, activation = 'relu'))\n",
    "    model.add(BatchNormalization())\n",
    "    model.add(Dropout(0.5))\n",
    "    model.add(Flatten())\n",
    "    model.add(Dense(64, activation ='relu'))\n",
    "    model.add(Dropout(0.5))\n",
    "    model.add(Dense(1, activation ='sigmoid'))\n"
   ]
  },
  {
   "cell_type": "code",
   "execution_count": 103,
   "metadata": {},
   "outputs": [
    {
     "name": "stdout",
     "output_type": "stream",
     "text": [
      "Model: \"sequential_16\"\n",
      "_________________________________________________________________\n",
      "Layer (type)                 Output Shape              Param #   \n",
      "=================================================================\n",
      "conv1d_28 (Conv1D)           (None, 18, 32)            96        \n",
      "_________________________________________________________________\n",
      "batch_normalization_25 (Batc (None, 18, 32)            128       \n",
      "_________________________________________________________________\n",
      "dropout_36 (Dropout)         (None, 18, 32)            0         \n",
      "_________________________________________________________________\n",
      "conv1d_31 (Conv1D)           (None, 17, 64)            4160      \n",
      "_________________________________________________________________\n",
      "batch_normalization_26 (Batc (None, 17, 64)            256       \n",
      "_________________________________________________________________\n",
      "dropout_37 (Dropout)         (None, 17, 64)            0         \n",
      "_________________________________________________________________\n",
      "flatten_12 (Flatten)         (None, 1088)              0         \n",
      "_________________________________________________________________\n",
      "dense_24 (Dense)             (None, 64)                69696     \n",
      "_________________________________________________________________\n",
      "dropout_38 (Dropout)         (None, 64)                0         \n",
      "_________________________________________________________________\n",
      "dense_25 (Dense)             (None, 1)                 65        \n",
      "=================================================================\n",
      "Total params: 74,401\n",
      "Trainable params: 74,209\n",
      "Non-trainable params: 192\n",
      "_________________________________________________________________\n"
     ]
    }
   ],
   "source": [
    "cre_model.summary()"
   ]
  },
  {
   "cell_type": "code",
   "execution_count": 106,
   "metadata": {},
   "outputs": [],
   "source": [
    "#b_cre_model.summary()"
   ]
  },
  {
   "cell_type": "code",
   "execution_count": 104,
   "metadata": {},
   "outputs": [],
   "source": [
    "#syn_model.summary()"
   ]
  },
  {
   "cell_type": "markdown",
   "metadata": {},
   "source": [
    "#### (2) Anomaly detection algorithms(unsuppervised)\n",
    "a. Isolation Forest   \n",
    "b. Local Outlier   \n",
    "c. One-class SVM  "
   ]
  },
  {
   "cell_type": "code",
   "execution_count": 111,
   "metadata": {},
   "outputs": [],
   "source": [
    "state = np.random.RandomState(42)\n",
    "\n",
    "outlier_fraction_cre = sum(df_cre['target'])/(len(df_cre)-sum(df_cre['target']))\n",
    "outlier_fraction_syn = sum(df_syn['target'])/(len(df_syn)-sum(df_syn['target']))\n",
    "\n",
    "Anomalies_cre = {\n",
    "    \"Isolation Forest\":IsolationForest(n_estimators=100, max_samples=len(df_cre), \n",
    "                                       contamination=outlier_fraction,random_state=state, verbose=0),\n",
    "    \"Local Outlier Factor\":LocalOutlierFactor(n_neighbors=20, algorithm='auto', \n",
    "                                              leaf_size=30, metric='minkowski',\n",
    "                                              p=2, metric_params=None, contamination=outlier_fraction_cre),\n",
    "    \"Support Vector Machine\":OneClassSVM(kernel='rbf', degree=3, gamma=0.1,nu=0.05, \n",
    "                                         max_iter=-1)\n",
    "   \n",
    "}\n",
    "\n",
    "Anomalies_syn = {\n",
    "    \"Isolation Forest\":IsolationForest(n_estimators=100, max_samples=len(df_cre), \n",
    "                                       contamination=outlier_fraction,random_state=state, verbose=0),\n",
    "    \"Local Outlier Factor\":LocalOutlierFactor(n_neighbors=20, algorithm='auto', \n",
    "                                              leaf_size=30, metric='minkowski',\n",
    "                                              p=2, metric_params=None, contamination=outlier_fraction_syn),\n",
    "    \"Support Vector Machine\":OneClassSVM(kernel='rbf', degree=3, gamma=0.1,nu=0.05, \n",
    "                                         max_iter=-1)\n",
    "   \n",
    "}"
   ]
  },
  {
   "cell_type": "markdown",
   "metadata": {},
   "source": [
    "## 6.Analysis result"
   ]
  },
  {
   "cell_type": "markdown",
   "metadata": {},
   "source": [
    "**(1) CNN**"
   ]
  },
  {
   "cell_type": "code",
   "execution_count": 85,
   "metadata": {},
   "outputs": [],
   "source": [
    "epochs = 20"
   ]
  },
  {
   "cell_type": "code",
   "execution_count": 107,
   "metadata": {},
   "outputs": [
    {
     "name": "stdout",
     "output_type": "stream",
     "text": [
      "Epoch 1/20\n",
      "2344/2344 [==============================] - 10s 4ms/step - loss: 0.1704 - acc: 0.9376 - val_loss: 0.0062 - val_acc: 0.9992\n",
      "Epoch 2/20\n",
      "2344/2344 [==============================] - 10s 4ms/step - loss: 0.0119 - acc: 0.9978 - val_loss: 0.0057 - val_acc: 0.9994\n",
      "Epoch 3/20\n",
      "2344/2344 [==============================] - 10s 4ms/step - loss: 0.0071 - acc: 0.9988 - val_loss: 0.0062 - val_acc: 0.9994\n",
      "Epoch 4/20\n",
      "2344/2344 [==============================] - 10s 4ms/step - loss: 0.0056 - acc: 0.9991 - val_loss: 0.0060 - val_acc: 0.9994\n",
      "Epoch 5/20\n",
      "2344/2344 [==============================] - 10s 4ms/step - loss: 0.0056 - acc: 0.9992 - val_loss: 0.0056 - val_acc: 0.9994\n",
      "Epoch 6/20\n",
      "2344/2344 [==============================] - 10s 4ms/step - loss: 0.0052 - acc: 0.9992 - val_loss: 0.0053 - val_acc: 0.9994\n",
      "Epoch 7/20\n",
      "2344/2344 [==============================] - 11s 5ms/step - loss: 0.0047 - acc: 0.9992 - val_loss: 0.0053 - val_acc: 0.9995\n",
      "Epoch 8/20\n",
      "2344/2344 [==============================] - 13s 5ms/step - loss: 0.0051 - acc: 0.9993 - val_loss: 0.0052 - val_acc: 0.9995\n",
      "Epoch 9/20\n",
      "2344/2344 [==============================] - 12s 5ms/step - loss: 0.0041 - acc: 0.9993 - val_loss: 0.0053 - val_acc: 0.9994\n",
      "Epoch 10/20\n",
      "2344/2344 [==============================] - 12s 5ms/step - loss: 0.0045 - acc: 0.9993 - val_loss: 0.0052 - val_acc: 0.9994\n",
      "Epoch 11/20\n",
      "2344/2344 [==============================] - 13s 6ms/step - loss: 0.0041 - acc: 0.9992 - val_loss: 0.0054 - val_acc: 0.9993\n",
      "Epoch 12/20\n",
      "2344/2344 [==============================] - 13s 6ms/step - loss: 0.0038 - acc: 0.9993 - val_loss: 0.0053 - val_acc: 0.9994\n",
      "Epoch 13/20\n",
      "2344/2344 [==============================] - 13s 5ms/step - loss: 0.0037 - acc: 0.9994 - val_loss: 0.0054 - val_acc: 0.9994\n",
      "Epoch 14/20\n",
      "2344/2344 [==============================] - 13s 6ms/step - loss: 0.0033 - acc: 0.9994 - val_loss: 0.0052 - val_acc: 0.9996\n",
      "Epoch 15/20\n",
      "2344/2344 [==============================] - 13s 5ms/step - loss: 0.0035 - acc: 0.9994 - val_loss: 0.0056 - val_acc: 0.9994\n",
      "Epoch 16/20\n",
      "2344/2344 [==============================] - 13s 5ms/step - loss: 0.0038 - acc: 0.9994 - val_loss: 0.0055 - val_acc: 0.9995\n",
      "Epoch 17/20\n",
      "2344/2344 [==============================] - 13s 5ms/step - loss: 0.0034 - acc: 0.9994 - val_loss: 0.0056 - val_acc: 0.9994\n",
      "Epoch 18/20\n",
      "2344/2344 [==============================] - 13s 5ms/step - loss: 0.0031 - acc: 0.9994 - val_loss: 0.0057 - val_acc: 0.9993\n",
      "Epoch 19/20\n",
      "2344/2344 [==============================] - 12s 5ms/step - loss: 0.0034 - acc: 0.9993 - val_loss: 0.0054 - val_acc: 0.9994\n",
      "Epoch 20/20\n",
      "2344/2344 [==============================] - 12s 5ms/step - loss: 0.0031 - acc: 0.9994 - val_loss: 0.0053 - val_acc: 0.9995\n"
     ]
    }
   ],
   "source": [
    "## here I use creditcard to test CNN\n",
    "## here I use balanced creditcard(created) to test CNN\n",
    "cnn_train_x_cre = train_x_cre.reshape(train_x_cre.shape[0],train_x_cre.shape[1],1)\n",
    "cnn_test_x_cre = test_x_cre.reshape(test_x_cre.shape[0],test_x_cre.shape[1],1)\n",
    "\n",
    "cre_model.compile(optimizer=Adam(lr=0.0001),loss ='binary_crossentropy', metrics=['acc'])\n",
    "cre_process = cre_model.fit(cnn_train_x_cre,train_y_cre, epochs=epochs, validation_data=(cnn_test_x_cre,test_y_cre), verbose=1)"
   ]
  },
  {
   "cell_type": "code",
   "execution_count": 113,
   "metadata": {},
   "outputs": [
    {
     "name": "stdout",
     "output_type": "stream",
     "text": [
      "Epoch 1/20\n",
      "25/25 [==============================] - 0s 10ms/step - loss: 0.8771 - acc: 0.6531 - val_loss: 0.6185 - val_acc: 0.8680\n",
      "Epoch 2/20\n",
      "25/25 [==============================] - 0s 7ms/step - loss: 0.5331 - acc: 0.8018 - val_loss: 0.5834 - val_acc: 0.8680\n",
      "Epoch 3/20\n",
      "25/25 [==============================] - 0s 6ms/step - loss: 0.4614 - acc: 0.8183 - val_loss: 0.5642 - val_acc: 0.7563\n",
      "Epoch 4/20\n",
      "25/25 [==============================] - 0s 6ms/step - loss: 0.4158 - acc: 0.8526 - val_loss: 0.5482 - val_acc: 0.6142\n",
      "Epoch 5/20\n",
      "25/25 [==============================] - 0s 6ms/step - loss: 0.3595 - acc: 0.8729 - val_loss: 0.5444 - val_acc: 0.5431\n",
      "Epoch 6/20\n",
      "25/25 [==============================] - 0s 6ms/step - loss: 0.3305 - acc: 0.8818 - val_loss: 0.5357 - val_acc: 0.5431\n",
      "Epoch 7/20\n",
      "25/25 [==============================] - 0s 6ms/step - loss: 0.2893 - acc: 0.8844 - val_loss: 0.5079 - val_acc: 0.5787\n",
      "Epoch 8/20\n",
      "25/25 [==============================] - 0s 6ms/step - loss: 0.2729 - acc: 0.9034 - val_loss: 0.4966 - val_acc: 0.5990\n",
      "Epoch 9/20\n",
      "25/25 [==============================] - 0s 6ms/step - loss: 0.2635 - acc: 0.9047 - val_loss: 0.4596 - val_acc: 0.7056\n",
      "Epoch 10/20\n",
      "25/25 [==============================] - 0s 6ms/step - loss: 0.2607 - acc: 0.9047 - val_loss: 0.4515 - val_acc: 0.7157\n",
      "Epoch 11/20\n",
      "25/25 [==============================] - 0s 6ms/step - loss: 0.2518 - acc: 0.9136 - val_loss: 0.4126 - val_acc: 0.7868\n",
      "Epoch 12/20\n",
      "25/25 [==============================] - 0s 6ms/step - loss: 0.2406 - acc: 0.8996 - val_loss: 0.3814 - val_acc: 0.8223\n",
      "Epoch 13/20\n",
      "25/25 [==============================] - 0s 6ms/step - loss: 0.2417 - acc: 0.9136 - val_loss: 0.3534 - val_acc: 0.8325\n",
      "Epoch 14/20\n",
      "25/25 [==============================] - 0s 6ms/step - loss: 0.2492 - acc: 0.9136 - val_loss: 0.3333 - val_acc: 0.8426\n",
      "Epoch 15/20\n",
      "25/25 [==============================] - 0s 7ms/step - loss: 0.2183 - acc: 0.9199 - val_loss: 0.2991 - val_acc: 0.8731\n",
      "Epoch 16/20\n",
      "25/25 [==============================] - 0s 6ms/step - loss: 0.2192 - acc: 0.9263 - val_loss: 0.2525 - val_acc: 0.8883\n",
      "Epoch 17/20\n",
      "25/25 [==============================] - 0s 6ms/step - loss: 0.2081 - acc: 0.9199 - val_loss: 0.2441 - val_acc: 0.8934\n",
      "Epoch 18/20\n",
      "25/25 [==============================] - ETA: 0s - loss: 0.2106 - acc: 0.924 - 0s 6ms/step - loss: 0.2033 - acc: 0.9263 - val_loss: 0.2288 - val_acc: 0.9137\n",
      "Epoch 19/20\n",
      "25/25 [==============================] - 0s 6ms/step - loss: 0.2282 - acc: 0.9199 - val_loss: 0.2234 - val_acc: 0.9086\n",
      "Epoch 20/20\n",
      "25/25 [==============================] - 0s 6ms/step - loss: 0.1945 - acc: 0.9238 - val_loss: 0.2139 - val_acc: 0.9137\n"
     ]
    }
   ],
   "source": [
    "## here I use balanced creditcard(created) to test CNN\n",
    "b_cnn_train_x_cre = b_train_x_cre.reshape(b_train_x_cre.shape[0],b_train_x_cre.shape[1],1)\n",
    "b_cnn_test_x_cre = b_test_x_cre.reshape(b_test_x_cre.shape[0],b_test_x_cre.shape[1],1)\n",
    "\n",
    "b_cre_model.compile(optimizer=Adam(lr=0.0001),loss ='binary_crossentropy', metrics=['acc'])\n",
    "b_cre_process = b_cre_model.fit(b_cnn_train_x_cre,b_train_y_cre, epochs=epochs, validation_data=(b_cnn_test_x_cre,b_test_y_cre), verbose=1)"
   ]
  },
  {
   "cell_type": "code",
   "execution_count": 114,
   "metadata": {},
   "outputs": [
    {
     "name": "stdout",
     "output_type": "stream",
     "text": [
      "Epoch 1/20\n",
      "2344/2344 [==============================] - 8s 4ms/step - loss: 0.1129 - acc: 0.9601 - val_loss: 0.0048 - val_acc: 0.9993\n",
      "Epoch 2/20\n",
      "2344/2344 [==============================] - 8s 4ms/step - loss: 0.0127 - acc: 0.9978 - val_loss: 0.0043 - val_acc: 0.9995\n",
      "Epoch 3/20\n",
      "2344/2344 [==============================] - 9s 4ms/step - loss: 0.0096 - acc: 0.9985 - val_loss: 0.0038 - val_acc: 0.9994\n",
      "Epoch 4/20\n",
      "2344/2344 [==============================] - 9s 4ms/step - loss: 0.0071 - acc: 0.9988 - val_loss: 0.0035 - val_acc: 0.9994\n",
      "Epoch 5/20\n",
      "2344/2344 [==============================] - 8s 4ms/step - loss: 0.0068 - acc: 0.9988 - val_loss: 0.0032 - val_acc: 0.9994\n",
      "Epoch 6/20\n",
      "2344/2344 [==============================] - 9s 4ms/step - loss: 0.0061 - acc: 0.9990 - val_loss: 0.0029 - val_acc: 0.9994\n",
      "Epoch 7/20\n",
      "2344/2344 [==============================] - 12s 5ms/step - loss: 0.0062 - acc: 0.9990 - val_loss: 0.0029 - val_acc: 0.9994\n",
      "Epoch 8/20\n",
      "2344/2344 [==============================] - 12s 5ms/step - loss: 0.0058 - acc: 0.9992 - val_loss: 0.0028 - val_acc: 0.9994\n",
      "Epoch 9/20\n",
      "2344/2344 [==============================] - 12s 5ms/step - loss: 0.0054 - acc: 0.9990 - val_loss: 0.0027 - val_acc: 0.9994\n",
      "Epoch 10/20\n",
      "2344/2344 [==============================] - 13s 5ms/step - loss: 0.0057 - acc: 0.9991 - val_loss: 0.0025 - val_acc: 0.9994\n",
      "Epoch 11/20\n",
      "2344/2344 [==============================] - 13s 5ms/step - loss: 0.0055 - acc: 0.9990 - val_loss: 0.0027 - val_acc: 0.9994\n",
      "Epoch 12/20\n",
      "2344/2344 [==============================] - 13s 5ms/step - loss: 0.0055 - acc: 0.9991 - val_loss: 0.0026 - val_acc: 0.9994\n",
      "Epoch 13/20\n",
      "2344/2344 [==============================] - 14s 6ms/step - loss: 0.0052 - acc: 0.9991 - val_loss: 0.0025 - val_acc: 0.9994\n",
      "Epoch 14/20\n",
      "2344/2344 [==============================] - 13s 5ms/step - loss: 0.0055 - acc: 0.9991 - val_loss: 0.0026 - val_acc: 0.9994\n",
      "Epoch 15/20\n",
      "2344/2344 [==============================] - 12s 5ms/step - loss: 0.0054 - acc: 0.9990 - val_loss: 0.0024 - val_acc: 0.9994\n",
      "Epoch 16/20\n",
      "2344/2344 [==============================] - 12s 5ms/step - loss: 0.0050 - acc: 0.9991 - val_loss: 0.0024 - val_acc: 0.9994\n",
      "Epoch 17/20\n",
      "2344/2344 [==============================] - 12s 5ms/step - loss: 0.0052 - acc: 0.9992 - val_loss: 0.0024 - val_acc: 0.9994\n",
      "Epoch 18/20\n",
      "2344/2344 [==============================] - 13s 5ms/step - loss: 0.0048 - acc: 0.9990 - val_loss: 0.0025 - val_acc: 0.9994\n",
      "Epoch 19/20\n",
      "2344/2344 [==============================] - 12s 5ms/step - loss: 0.0049 - acc: 0.9992 - val_loss: 0.0024 - val_acc: 0.9994\n",
      "Epoch 20/20\n",
      "2344/2344 [==============================] - 13s 5ms/step - loss: 0.0053 - acc: 0.9992 - val_loss: 0.0024 - val_acc: 0.9994\n"
     ]
    }
   ],
   "source": [
    "# ## here I use origin sythetic to test CNN\n",
    "cnn_train_x_syn = train_x_syn.reshape(train_x_syn.shape[0],train_x_syn.shape[1],1)\n",
    "cnn_test_x_syn = test_x_syn.reshape(test_x_syn.shape[0],test_x_syn.shape[1],1)\n",
    "syn_model.compile(optimizer=Adam(lr=0.0001),loss ='binary_crossentropy', metrics=['acc'])\n",
    "syn_process = syn_model.fit(cnn_train_x_syn,train_y_syn, epochs=epochs, validation_data=(cnn_test_x_syn,test_y_syn), verbose=1)"
   ]
  },
  {
   "cell_type": "code",
   "execution_count": 115,
   "metadata": {},
   "outputs": [],
   "source": [
    "def plot_learningCurve(history, epoch):\n",
    "    #plot training & val iddation accuracy values\n",
    "    epoch_range = range(1,epoch+1)\n",
    "    plt.plot(epoch_range, history.history['acc']) \n",
    "    plt.plot(epoch_range, history.history['val_acc'])\n",
    "    plt.title(\"Model accuracy\")\n",
    "    plt.ylabel('Accuracy')\n",
    "    plt.xlabel('Epoch')\n",
    "    plt.legend(['Train','Val'],loc ='upper left')\n",
    "    plt.show()\n",
    "    \n",
    "    #plot training & val iddation loss values\n",
    "    plt.plot(epoch_range, history.history['loss']) \n",
    "    plt.plot(epoch_range, history.history['val_loss'])\n",
    "    plt.title(\"Model loss\")\n",
    "    plt.ylabel('Loss')\n",
    "    plt.xlabel('Epoch')\n",
    "    plt.legend(['Train','Val'],loc ='upper left')\n",
    "    plt.show()"
   ]
  },
  {
   "cell_type": "code",
   "execution_count": 116,
   "metadata": {},
   "outputs": [
    {
     "data": {
      "image/png": "[encoded data removed]",
      "text/plain": [
       "<Figure size 1440x360 with 1 Axes>"
      ]
     },
     "metadata": {
      "needs_background": "light"
     },
     "output_type": "display_data"
    },
    {
     "data": {
      "image/png": "[encoded data removed]",
      "text/plain": [
       "<Figure size 1440x360 with 1 Axes>"
      ]
     },
     "metadata": {
      "needs_background": "light"
     },
     "output_type": "display_data"
    }
   ],
   "source": [
    "plot_learningCurve(cre_process,epochs)"
   ]
  },
  {
   "cell_type": "code",
   "execution_count": 118,
   "metadata": {},
   "outputs": [],
   "source": [
    "#plot_learningCurve(b_cre_process,epochs)"
   ]
  },
  {
   "cell_type": "code",
   "execution_count": 119,
   "metadata": {},
   "outputs": [],
   "source": [
    "#plot_learningCurve(syn_process,epochs)"
   ]
  },
  {
   "cell_type": "code",
   "execution_count": 120,
   "metadata": {},
   "outputs": [
    {
     "name": "stdout",
     "output_type": "stream",
     "text": [
      "Creditcard\n",
      "              precision    recall  f1-score   support\n",
      "\n",
      "           0       1.00      1.00      1.00     24955\n",
      "           1       0.90      0.82      0.86        45\n",
      "\n",
      "    accuracy                           1.00     25000\n",
      "   macro avg       0.95      0.91      0.93     25000\n",
      "weighted avg       1.00      1.00      1.00     25000\n",
      "\n",
      "\n",
      "\n",
      "Creditcard(balanced):\n",
      "              precision    recall  f1-score   support\n",
      "\n",
      "           0       0.91      0.92      0.91        99\n",
      "           1       0.92      0.91      0.91        98\n",
      "\n",
      "    accuracy                           0.91       197\n",
      "   macro avg       0.91      0.91      0.91       197\n",
      "weighted avg       0.91      0.91      0.91       197\n",
      "\n",
      "\n",
      "\n",
      "Synthetic:\n",
      "              precision    recall  f1-score   support\n",
      "\n",
      "           0       1.00      1.00      1.00     24965\n",
      "           1       1.00      0.60      0.75        35\n",
      "\n",
      "    accuracy                           1.00     25000\n",
      "   macro avg       1.00      0.80      0.87     25000\n",
      "weighted avg       1.00      1.00      1.00     25000\n",
      "\n",
      "\n",
      "\n"
     ]
    }
   ],
   "source": [
    "# result of creditcard \n",
    "print(\"Creditcard\")\n",
    "predictions_cre = cre_model.predict_classes(cnn_test_x_cre)\n",
    "print(classification_report(test_y_cre, predictions_cre))\n",
    "print('\\n')\n",
    "\n",
    "print(\"Creditcard(balanced):\")\n",
    "b_predictions_cre = b_cre_model.predict_classes(b_cnn_test_x_cre)\n",
    "print(classification_report(b_test_y_cre, b_predictions_cre))\n",
    "print('\\n')\n",
    "\n",
    "# result of synthetic\n",
    "# result of creditcard \n",
    "print(\"Synthetic:\")\n",
    "predictions_syn = syn_model.predict_classes(cnn_test_x_syn)\n",
    "print(classification_report(test_y_syn, predictions_syn))\n",
    "print('\\n')\n",
    "#print(confusion_matrix(b_y_test_cre, predictions_cre))     "
   ]
  },
  {
   "cell_type": "markdown",
   "metadata": {},
   "source": [
    "#### (2) Anomaly detection algorithms(unsupervised)\n",
    "a. Isolation Forest   \n",
    "b. Local Outlier   \n",
    "c. One-class SVM  "
   ]
  },
  {
   "cell_type": "markdown",
   "metadata": {},
   "source": [
    "**creditcard dataset**"
   ]
  },
  {
   "cell_type": "code",
   "execution_count": 122,
   "metadata": {},
   "outputs": [
    {
     "name": "stderr",
     "output_type": "stream",
     "text": [
      "D:\\Users\\60587\\Anaconda3\\lib\\site-packages\\sklearn\\ensemble\\_iforest.py:288: UserWarning: max_samples (284807) is greater than the total number of samples (100000). max_samples will be set to n_samples for estimation.\n",
      "  % (self.max_samples, n_samples))\n"
     ]
    },
    {
     "name": "stdout",
     "output_type": "stream",
     "text": [
      "Isolation Forest: 226\n",
      "Accuracy Score :\n",
      "0.99774\n",
      "Classification Report :\n",
      "              precision    recall  f1-score   support\n",
      "\n",
      "           0       1.00      1.00      1.00     99838\n",
      "           1       0.32      0.34      0.33       162\n",
      "\n",
      "    accuracy                           1.00    100000\n",
      "   macro avg       0.66      0.67      0.66    100000\n",
      "weighted avg       1.00      1.00      1.00    100000\n",
      "\n",
      "Local Outlier Factor: 336\n",
      "Accuracy Score :\n",
      "0.99664\n",
      "Classification Report :\n",
      "              precision    recall  f1-score   support\n",
      "\n",
      "           0       1.00      1.00      1.00     99838\n",
      "           1       0.00      0.00      0.00       162\n",
      "\n",
      "    accuracy                           1.00    100000\n",
      "   macro avg       0.50      0.50      0.50    100000\n",
      "weighted avg       1.00      1.00      1.00    100000\n",
      "\n",
      "Support Vector Machine: 4880\n",
      "Accuracy Score :\n",
      "0.9512\n",
      "Classification Report :\n",
      "              precision    recall  f1-score   support\n",
      "\n",
      "           0       1.00      0.95      0.97     99838\n",
      "           1       0.03      0.88      0.05       162\n",
      "\n",
      "    accuracy                           0.95    100000\n",
      "   macro avg       0.51      0.91      0.51    100000\n",
      "weighted avg       1.00      0.95      0.97    100000\n",
      "\n"
     ]
    }
   ],
   "source": [
    "X, Y = np.concatenate((train_x_cre,test_x_cre),axis=0), np.concatenate((train_y_cre, test_y_cre),axis=0)\n",
    "n_outliers = sum(Y)\n",
    "for i, (clf_name,clf) in enumerate(Anomalies_cre.items()):\n",
    "    #Fit the data and tag outliers\n",
    "    if clf_name == \"Local Outlier Factor\":\n",
    "        y_pred = clf.fit_predict(X)\n",
    "        scores_prediction = clf.negative_outlier_factor_\n",
    "    elif clf_name == \"Support Vector Machine\":\n",
    "        clf.fit(X)\n",
    "        y_pred = clf.predict(X)\n",
    "    else:    \n",
    "        clf.fit(X)\n",
    "        scores_prediction = clf.decision_function(X)\n",
    "        y_pred = clf.predict(X)\n",
    "    #Reshape the prediction values to 0 for Valid transactions , 1 for Fraud transactions\n",
    "    y_pred[y_pred == 1] = 0\n",
    "    y_pred[y_pred == -1] = 1\n",
    "    n_errors = (y_pred != Y).sum()\n",
    "    # Run Classification Metrics\n",
    "    print(\"{}: {}\".format(clf_name,n_errors))\n",
    "    print(\"Accuracy Score :\")\n",
    "    print(accuracy_score(Y,y_pred))\n",
    "    print(\"Classification Report :\")\n",
    "    print(classification_report(Y,y_pred))"
   ]
  },
  {
   "cell_type": "markdown",
   "metadata": {},
   "source": [
    "**synthenic dataset**"
   ]
  },
  {
   "cell_type": "code",
   "execution_count": 123,
   "metadata": {},
   "outputs": [
    {
     "name": "stderr",
     "output_type": "stream",
     "text": [
      "D:\\Users\\60587\\Anaconda3\\lib\\site-packages\\sklearn\\ensemble\\_iforest.py:288: UserWarning: max_samples (284807) is greater than the total number of samples (100000). max_samples will be set to n_samples for estimation.\n",
      "  % (self.max_samples, n_samples))\n"
     ]
    },
    {
     "name": "stdout",
     "output_type": "stream",
     "text": [
      "Isolation Forest: 246\n",
      "Accuracy Score :\n",
      "0.99754\n",
      "Classification Report :\n",
      "              precision    recall  f1-score   support\n",
      "\n",
      "           0       1.00      1.00      1.00     99856\n",
      "           1       0.21      0.25      0.23       144\n",
      "\n",
      "    accuracy                           1.00    100000\n",
      "   macro avg       0.60      0.62      0.61    100000\n",
      "weighted avg       1.00      1.00      1.00    100000\n",
      "\n",
      "Local Outlier Factor: 270\n",
      "Accuracy Score :\n",
      "0.9973\n",
      "Classification Report :\n",
      "              precision    recall  f1-score   support\n",
      "\n",
      "           0       1.00      1.00      1.00     99856\n",
      "           1       0.02      0.01      0.01       144\n",
      "\n",
      "    accuracy                           1.00    100000\n",
      "   macro avg       0.51      0.51      0.51    100000\n",
      "weighted avg       1.00      1.00      1.00    100000\n",
      "\n",
      "Support Vector Machine: 4961\n",
      "Accuracy Score :\n",
      "0.95039\n",
      "Classification Report :\n",
      "              precision    recall  f1-score   support\n",
      "\n",
      "           0       1.00      0.95      0.97     99856\n",
      "           1       0.02      0.63      0.04       144\n",
      "\n",
      "    accuracy                           0.95    100000\n",
      "   macro avg       0.51      0.79      0.50    100000\n",
      "weighted avg       1.00      0.95      0.97    100000\n",
      "\n"
     ]
    }
   ],
   "source": [
    "X, Y = np.concatenate((train_x_syn,test_x_syn),axis=0), np.concatenate((train_y_syn, test_y_syn),axis=0)\n",
    "n_outliers = sum(Y)\n",
    "for i, (clf_name,clf) in enumerate(Anomalies_syn.items()):\n",
    "    #Fit the data and tag outliers\n",
    "    if clf_name == \"Local Outlier Factor\":\n",
    "        y_pred = clf.fit_predict(X)\n",
    "        scores_prediction = clf.negative_outlier_factor_\n",
    "    elif clf_name == \"Support Vector Machine\":\n",
    "        clf.fit(X)\n",
    "        y_pred = clf.predict(X)\n",
    "    else:    \n",
    "        clf.fit(X)\n",
    "        scores_prediction = clf.decision_function(X)\n",
    "        y_pred = clf.predict(X)\n",
    "    #Reshape the prediction values to 0 for Valid transactions , 1 for Fraud transactions\n",
    "    y_pred[y_pred == 1] = 0\n",
    "    y_pred[y_pred == -1] = 1\n",
    "    n_errors = (y_pred != Y).sum()\n",
    "    # Run Classification Metrics\n",
    "    print(\"{}: {}\".format(clf_name,n_errors))\n",
    "    print(\"Accuracy Score :\")\n",
    "    print(accuracy_score(Y,y_pred))\n",
    "    print(\"Classification Report :\")\n",
    "    print(classification_report(Y,y_pred))"
   ]
  },
  {
   "cell_type": "markdown",
   "metadata": {},
   "source": [
    "#### Reference\n",
    "\n",
    "\n"
   ]
  },
  {
   "cell_type": "code",
   "execution_count": null,
   "metadata": {},
   "outputs": [],
   "source": []
  }
 ],
 "metadata": {
  "kernelspec": {
   "display_name": "Python 3",
   "language": "python",
   "name": "python3"
  },
  "language_info": {
   "codemirror_mode": {
    "name": "ipython",
    "version": 3
   },
   "file_extension": ".py",
   "mimetype": "text/x-python",
   "name": "python",
   "nbconvert_exporter": "python",
   "pygments_lexer": "ipython3",
   "version": "3.7.3"
  }
 },
 "nbformat": 4,
 "nbformat_minor": 2
}
